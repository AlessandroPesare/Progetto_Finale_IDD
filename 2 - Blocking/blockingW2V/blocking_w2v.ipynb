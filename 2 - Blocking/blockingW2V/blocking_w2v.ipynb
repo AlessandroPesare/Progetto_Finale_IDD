{
 "cells": [
  {
   "cell_type": "markdown",
   "metadata": {},
   "source": [
    "# Blocking with Word2Vec"
   ]
  },
  {
   "cell_type": "code",
   "execution_count": 1,
   "metadata": {},
   "outputs": [
    {
     "name": "stderr",
     "output_type": "stream",
     "text": [
      "C:\\Users\\Riccardo De Cesaris\\AppData\\Local\\Temp\\ipykernel_3980\\3609187278.py:3: DeprecationWarning: \n",
      "Pyarrow will become a required dependency of pandas in the next major release of pandas (pandas 3.0),\n",
      "(to allow more performant data types, such as the Arrow string type, and better interoperability with other libraries)\n",
      "but was not found to be installed on your system.\n",
      "If this would cause problems for you,\n",
      "please provide us feedback at https://github.com/pandas-dev/pandas/issues/54466\n",
      "        \n",
      "  import pandas as pd\n"
     ]
    }
   ],
   "source": [
    "import os\n",
    "import numpy as np\n",
    "import pandas as pd\n",
    "from gensim.models import Word2Vec\n",
    "from sklearn.cluster import KMeans\n",
    "from sklearn.metrics import silhouette_score"
   ]
  },
  {
   "cell_type": "markdown",
   "metadata": {},
   "source": [
    "## Caricamento dello Schema Mediato da File"
   ]
  },
  {
   "cell_type": "code",
   "execution_count": 2,
   "metadata": {},
   "outputs": [
    {
     "name": "stdout",
     "output_type": "stream",
     "text": [
      "Dimensioni dello Schema Mediato: (81706, 6)\n"
     ]
    }
   ],
   "source": [
    "schema_mediato = pd.read_csv(\"./../../datasets/MediatedSchemaSemicolon.csv\",sep=\";\")\n",
    "print(\"Dimensioni dello Schema Mediato:\", schema_mediato.shape)"
   ]
  },
  {
   "cell_type": "code",
   "execution_count": 3,
   "metadata": {},
   "outputs": [],
   "source": [
    "records = []\n",
    "for i in range(0, len(schema_mediato)):\n",
    "    tokens = []\n",
    "    vals = schema_mediato.iloc[i].tolist()\n",
    "    values = list()\n",
    "    for v in vals:\n",
    "        if v is not np.nan:\n",
    "            v = v.lower()\n",
    "        values.append(v)\n",
    "        \n",
    "    if values[0] is not np.nan:\n",
    "        tokens.extend(values[0].split())\n",
    "    \n",
    "    if values[1] is not np.nan:\n",
    "        elements = values[1].split(',')\n",
    "        tokens.extend([elem.strip() for elem in elements])\n",
    "    \n",
    "    if values[2] is not np.nan:\n",
    "        tokens.append(values[2])\n",
    "    \n",
    "    if values[3] is not np.nan:\n",
    "        tokens.append(values[3])\n",
    "    \n",
    "    if values[4] is not np.nan:\n",
    "        category = values[4]\n",
    "        category = category.replace(\" &\", \",\")\n",
    "        category = category.replace(\" /\", \",\")\n",
    "        elements = category.split(',')\n",
    "        tokens.extend([elem.strip() for elem in elements])\n",
    "    \n",
    "    if values[5] is not np.nan:\n",
    "        year_string = values[5]\n",
    "        if (len(year_string) == 4):\n",
    "            tokens.append(year_string)\n",
    "        elif (len(year_string) == 6):\n",
    "            tokens.append(year_string[:4])\n",
    "        elif (';' in year_string):\n",
    "            parts = year_string.split(';')\n",
    "            first_p = parts[0].split()\n",
    "            tokens.append(first_p[len(first_p)-1])\n",
    "    \n",
    "    records.append(tokens)"
   ]
  },
  {
   "cell_type": "code",
   "execution_count": 4,
   "metadata": {},
   "outputs": [],
   "source": [
    "import random\n",
    "final_records = list()\n",
    "for r in records:\n",
    "    final_r = r*3\n",
    "    random.shuffle(final_r)\n",
    "    final_records.append(final_r)"
   ]
  },
  {
   "cell_type": "markdown",
   "metadata": {},
   "source": [
    "Osservazione: ogni Record è rappresentato con una Lista di Stringhe, dove le 'stringhe' sono i campi che lo caratterizzano."
   ]
  },
  {
   "cell_type": "markdown",
   "metadata": {},
   "source": [
    "## Inizializzazione del Modello \"Word2Vec\""
   ]
  },
  {
   "cell_type": "code",
   "execution_count": 5,
   "metadata": {},
   "outputs": [
    {
     "name": "stdout",
     "output_type": "stream",
     "text": [
      "Numero di thread disponibili: 16\n"
     ]
    }
   ],
   "source": [
    "num_threads = os.cpu_count()\n",
    "print(\"Numero di thread disponibili:\", num_threads)"
   ]
  },
  {
   "cell_type": "code",
   "execution_count": 6,
   "metadata": {},
   "outputs": [],
   "source": [
    "model = Word2Vec(sentences=final_records, vector_size=512, window=11, min_count=1, workers=num_threads)"
   ]
  },
  {
   "cell_type": "markdown",
   "metadata": {},
   "source": [
    "## Calcolo dei Vettori per i Record\n",
    "Abbiamo settato la dimensione dello Spazio Latente a 512 e per ogni vettore dobbiamo, quindi, ottenere un vettore di 512 valori.\n",
    "\n",
    "Per un Record il vettore viene ottenuto sommando tra loro \"element-wise\" i vettori ottenuti dai campi ed infine normalizzando il vettore risultante sul valore 512, pari alla dimensione dello Spazio Latente."
   ]
  },
  {
   "cell_type": "code",
   "execution_count": 7,
   "metadata": {},
   "outputs": [],
   "source": [
    "def calculate_vector(record):\n",
    "    # Inizializza un vettore vuoto\n",
    "    record_vector = np.zeros(model.vector_size)\n",
    "    # Somma i vettori di embedding di ciascun token nel record\n",
    "    for token in record:\n",
    "        record_vector += model.wv[token]\n",
    "    #Normalizza il vettore risultante\n",
    "    record_vector /= 512\n",
    "    return record_vector"
   ]
  },
  {
   "cell_type": "code",
   "execution_count": 8,
   "metadata": {},
   "outputs": [],
   "source": [
    "records_w2v = []\n",
    "for i in range(0, len(records)):\n",
    "    records_w2v.append(calculate_vector(records[i]))"
   ]
  },
  {
   "cell_type": "code",
   "execution_count": 9,
   "metadata": {},
   "outputs": [
    {
     "name": "stdout",
     "output_type": "stream",
     "text": [
      "Dimensioni del DataFrame di Vettori: (81706, 512)\n"
     ]
    }
   ],
   "source": [
    "df = pd.DataFrame(records_w2v)\n",
    "print(\"Dimensioni del DataFrame di Vettori:\", df.shape)"
   ]
  },
  {
   "cell_type": "markdown",
   "metadata": {},
   "source": [
    "## K-Means sui Vettori per costruire i Blocchi"
   ]
  },
  {
   "cell_type": "code",
   "execution_count": 10,
   "metadata": {},
   "outputs": [],
   "source": [
    "kmeans = KMeans(n_clusters=143, init='k-means++', random_state=0, tol=0.000001).fit(df)"
   ]
  },
  {
   "cell_type": "code",
   "execution_count": 11,
   "metadata": {},
   "outputs": [],
   "source": [
    "schema_mediato['block'] = kmeans.labels_"
   ]
  },
  {
   "cell_type": "code",
   "execution_count": 12,
   "metadata": {},
   "outputs": [],
   "source": [
    "schema_mediato.to_csv(\"./../../datasets/MediatedSchemaConBlocks_W2V.csv\", index=False)"
   ]
  }
 ],
 "metadata": {
  "kernelspec": {
   "display_name": "FinalProjectIDD3_8",
   "language": "python",
   "name": "python3"
  },
  "language_info": {
   "codemirror_mode": {
    "name": "ipython",
    "version": 3
   },
   "file_extension": ".py",
   "mimetype": "text/x-python",
   "name": "python",
   "nbconvert_exporter": "python",
   "pygments_lexer": "ipython3",
   "version": "3.10.13"
  }
 },
 "nbformat": 4,
 "nbformat_minor": 2
}

{
 "cells": [
  {
   "cell_type": "markdown",
   "metadata": {},
   "source": [
    "# Blocking with Word2Vec"
   ]
  },
  {
   "cell_type": "code",
   "execution_count": 1,
   "metadata": {},
   "outputs": [],
   "source": [
    "import os\n",
    "import numpy as np\n",
    "import pandas as pd\n",
    "from gensim.models import Word2Vec\n",
    "from sklearn.cluster import KMeans\n",
    "from sklearn.metrics import silhouette_score"
   ]
  },
  {
   "cell_type": "markdown",
   "metadata": {},
   "source": [
    "## Caricamento dello Schema Mediato da File"
   ]
  },
  {
   "cell_type": "code",
   "execution_count": 2,
   "metadata": {},
   "outputs": [
    {
     "name": "stdout",
     "output_type": "stream",
     "text": [
      "Dimensioni dello Schema Mediato: (81706, 6)\n"
     ]
    }
   ],
   "source": [
    "schema_mediato = pd.read_csv(\"./../../datasets/MediatedSchemaSemicolon.csv\",sep=\";\")\n",
    "print(\"Dimensioni dello Schema Mediato:\", schema_mediato.shape)"
   ]
  },
  {
   "cell_type": "code",
   "execution_count": 3,
   "metadata": {},
   "outputs": [],
   "source": [
    "records = []\n",
    "for i in range(0,len(schema_mediato)):\n",
    "    record = schema_mediato.iloc[i].dropna()\n",
    "    records.append(record.tolist())"
   ]
  },
  {
   "cell_type": "markdown",
   "metadata": {},
   "source": [
    "Osservazione: ogni Record è rappresentato con una Lista di Stringhe, dove le 'stringhe' sono i campi che lo caratterizzano."
   ]
  },
  {
   "cell_type": "markdown",
   "metadata": {},
   "source": [
    "## Inizializzazione del Modello \"Word2Ved\""
   ]
  },
  {
   "cell_type": "code",
   "execution_count": 4,
   "metadata": {},
   "outputs": [
    {
     "name": "stdout",
     "output_type": "stream",
     "text": [
      "Numero di thread disponibili: 8\n"
     ]
    }
   ],
   "source": [
    "num_threads = os.cpu_count()\n",
    "print(\"Numero di thread disponibili:\", num_threads)"
   ]
  },
  {
   "cell_type": "code",
   "execution_count": 5,
   "metadata": {},
   "outputs": [],
   "source": [
    "model = Word2Vec(sentences=records, vector_size=512, window=5, min_count=1, workers=num_threads)"
   ]
  },
  {
   "cell_type": "markdown",
   "metadata": {},
   "source": [
    "## Calcolo dei Vettori per i Record\n",
    "Abbiamo settato la dimensione dello Spazio Latente a 256 e per ogni vettore dobbiamo, quindi, ottenere un vettore di 256 valori.\n",
    "\n",
    "Per un Record il vettore viene ottenuto sommando tra loro \"element-wise\" i vettori ottenuti dai campi ed infine normalizzando il vettore risultante sul valore 256, pari alla dimensione dello Spazio Latente."
   ]
  },
  {
   "cell_type": "code",
   "execution_count": 6,
   "metadata": {},
   "outputs": [],
   "source": [
    "def calculate_vector(record):\n",
    "    # Inizializza un vettore vuoto\n",
    "    record_vector = np.zeros(model.vector_size)\n",
    "    # Somma i vettori di embedding di ciascun token nel record\n",
    "    for token in record:\n",
    "        record_vector += model.wv[token]\n",
    "    #Normalizza il vettore risultante\n",
    "    record_vector /= 512\n",
    "    return record_vector"
   ]
  },
  {
   "cell_type": "code",
   "execution_count": 7,
   "metadata": {},
   "outputs": [],
   "source": [
    "records_w2v = []\n",
    "for i in range(0, len(records)):\n",
    "    records_w2v.append(calculate_vector(records[i]))"
   ]
  },
  {
   "cell_type": "code",
   "execution_count": 8,
   "metadata": {},
   "outputs": [
    {
     "name": "stdout",
     "output_type": "stream",
     "text": [
      "Dimensioni del DataFrame di Vettori: (81706, 512)\n"
     ]
    }
   ],
   "source": [
    "df = pd.DataFrame(records_w2v)\n",
    "print(\"Dimensioni del DataFrame di Vettori:\", df.shape)"
   ]
  },
  {
   "cell_type": "markdown",
   "metadata": {},
   "source": [
    "## K-Means sui Vettori per costruire i Blocchi"
   ]
  },
  {
   "cell_type": "code",
   "execution_count": 9,
   "metadata": {},
   "outputs": [
    {
     "name": "stderr",
     "output_type": "stream",
     "text": [
      "/Users/alessandropesare/anaconda3/envs/FinalProjectIDD3_8/lib/python3.8/site-packages/sklearn/cluster/_kmeans.py:1416: FutureWarning: The default value of `n_init` will change from 10 to 'auto' in 1.4. Set the value of `n_init` explicitly to suppress the warning\n",
      "  super()._check_params_vs_input(X, default_n_init=10)\n"
     ]
    }
   ],
   "source": [
    "kmeans = KMeans(n_clusters=836, random_state=0).fit(df)"
   ]
  },
  {
   "cell_type": "code",
   "execution_count": 10,
   "metadata": {},
   "outputs": [],
   "source": [
    "schema_mediato['block'] = kmeans.labels_"
   ]
  },
  {
   "cell_type": "code",
   "execution_count": 11,
   "metadata": {},
   "outputs": [],
   "source": [
    "schema_mediato.to_csv(\"./../../datasets/MediatedSchemaConBlocks_W2V.csv\", index=False)"
   ]
  }
 ],
 "metadata": {
  "kernelspec": {
   "display_name": "FinalProjectIDD3_8",
   "language": "python",
   "name": "python3"
  },
  "language_info": {
   "codemirror_mode": {
    "name": "ipython",
    "version": 3
   },
   "file_extension": ".py",
   "mimetype": "text/x-python",
   "name": "python",
   "nbconvert_exporter": "python",
   "pygments_lexer": "ipython3",
   "version": "3.8.18"
  }
 },
 "nbformat": 4,
 "nbformat_minor": 2
}

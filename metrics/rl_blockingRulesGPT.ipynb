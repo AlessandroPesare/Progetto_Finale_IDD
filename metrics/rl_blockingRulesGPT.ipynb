{
 "cells": [
  {
   "cell_type": "code",
   "execution_count": 30,
   "metadata": {},
   "outputs": [],
   "source": [
    "import pandas as pd"
   ]
  },
  {
   "cell_type": "code",
   "execution_count": 31,
   "metadata": {},
   "outputs": [
    {
     "name": "stdout",
     "output_type": "stream",
     "text": [
      "Numero Coppie nel Campione: 400\n",
      "Numero Coppie 'Matching' nel Campione: 173\n",
      "Numero Coppie 'Non Matching' nel Campione: 227\n"
     ]
    }
   ],
   "source": [
    "campione = pd.read_excel(\"./campione_400.xlsx\")\n",
    "print(\"Numero Coppie nel Campione:\", len(campione))\n",
    "print(\"Numero Coppie 'Matching' nel Campione:\", len(campione[campione['Label'] == 1]))\n",
    "print(\"Numero Coppie 'Non Matching' nel Campione:\", len(campione[campione['Label'] == 0]))"
   ]
  },
  {
   "cell_type": "markdown",
   "metadata": {},
   "source": [
    "# Valutazione del Blocking basato su Regole estratte da ChatGPT con Few-Shot Learning\n",
    "Calcoleremo Precision e Recall utilizzando il seguente formalismo:\n",
    "- True Negative -> Coppie 'Non Matching' che non finiscono nello stesso Blocco\n",
    "- False Positive -> Coppie 'Non Matching' che finiscono nello stesso Blocco\n",
    "- False Negative -> Coppie 'Matching' che non finiscono nello stesso Blocco\n",
    "- True Positive -> Coppie 'Matching' che finiscono nello stesso Blocco"
   ]
  },
  {
   "cell_type": "code",
   "execution_count": 25,
   "metadata": {},
   "outputs": [],
   "source": [
    "schema_mediato = pd.read_csv(\"./../datasets/MediatedSchemaSemicolon.csv\", sep=';')\n",
    "schema_mediato = schema_mediato.sample(n=81706, random_state=24)"
   ]
  },
  {
   "cell_type": "code",
   "execution_count": 33,
   "metadata": {},
   "outputs": [],
   "source": [
    "dictionary = {}\n",
    "with open(\"./../2 - Blocking/blockingRulesGPT/clustering_full_24.txt\") as file:\n",
    "    for line in file:\n",
    "        chiave, valore = line.split(':')\n",
    "        chiave = int(chiave)\n",
    "        valore = int(valore[1:-1])\n",
    "        dictionary[chiave] = valore\n",
    "\n",
    "dictionary_ordinato = dict(sorted(dictionary.items(), key=lambda x: x[0]))"
   ]
  },
  {
   "cell_type": "code",
   "execution_count": 34,
   "metadata": {},
   "outputs": [],
   "source": [
    "block = list(dictionary_ordinato.values())\n",
    "schema_mediato['block'] = block"
   ]
  },
  {
   "cell_type": "code",
   "execution_count": 35,
   "metadata": {},
   "outputs": [],
   "source": [
    "tn, fp, fn, tp = list(), list(), list(), list()\n",
    "\n",
    "for i in range(0, len(campione)):\n",
    "    row = campione.iloc[i]\n",
    "    first, second, true_label = row['Riga_SX'], row['Riga_DX'], row['Label']\n",
    "\n",
    "    first_block = schema_mediato.loc[first]['block']\n",
    "    second_block = schema_mediato.loc[second]['block']\n",
    "\n",
    "    computed_label = None\n",
    "    if first_block == second_block:\n",
    "        computed_label = 1\n",
    "    else:\n",
    "        computed_label = 0\n",
    "    \n",
    "    if true_label == 0 and computed_label == 0:\n",
    "        tn.append((first, second))\n",
    "    if true_label == 0 and computed_label == 1:\n",
    "        fp.append((first, second))\n",
    "    if true_label == 1 and computed_label == 0:\n",
    "        fn.append((first, second))\n",
    "    if true_label == 1 and computed_label == 1:\n",
    "        tp.append((first, second))"
   ]
  },
  {
   "cell_type": "code",
   "execution_count": 36,
   "metadata": {},
   "outputs": [
    {
     "name": "stdout",
     "output_type": "stream",
     "text": [
      "Recall: 0.6820809248554913\n",
      "Precision: 0.8805970149253731\n",
      "F-Measure: 0.7687296416938111\n"
     ]
    }
   ],
   "source": [
    "recall = len(tp) / (len(tp) + len(fn))\n",
    "precision = len(tp) / (len(tp) + len(fp))\n",
    "f_measure = (2 * precision * recall) / (precision + recall)\n",
    "\n",
    "print(\"Recall:\", recall)\n",
    "print(\"Precision:\", precision)\n",
    "print(\"F-Measure:\", f_measure)"
   ]
  },
  {
   "cell_type": "markdown",
   "metadata": {},
   "source": [
    "# Valutazione del Pairwise Matching\n",
    "Calcoleremo Precision e Recall utilizzando il seguente formalismo:\n",
    "- True Negative -> Coppie 'Non Matching' che non finiscono nello stesso Clusterino\n",
    "- False Positive -> Coppie 'Non Matching' che finiscono nello stesso Clusterino\n",
    "- False Negative -> Coppie 'Matching' che non finiscono nello stesso Clusterino\n",
    "- True Positive -> Coppie 'Matching' che finiscono nello stesso Clusterino"
   ]
  },
  {
   "cell_type": "code",
   "execution_count": null,
   "metadata": {},
   "outputs": [],
   "source": [
    "## DA ULTIMARE!"
   ]
  }
 ],
 "metadata": {
  "kernelspec": {
   "display_name": "Python 3",
   "language": "python",
   "name": "python3"
  },
  "language_info": {
   "codemirror_mode": {
    "name": "ipython",
    "version": 3
   },
   "file_extension": ".py",
   "mimetype": "text/x-python",
   "name": "python",
   "nbconvert_exporter": "python",
   "pygments_lexer": "ipython3",
   "version": "3.10.13"
  }
 },
 "nbformat": 4,
 "nbformat_minor": 2
}

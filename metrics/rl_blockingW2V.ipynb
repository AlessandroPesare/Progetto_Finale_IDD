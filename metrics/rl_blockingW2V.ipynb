{
 "cells": [
  {
   "cell_type": "code",
   "execution_count": 1,
   "metadata": {},
   "outputs": [],
   "source": [
    "import pandas as pd"
   ]
  },
  {
   "cell_type": "code",
   "execution_count": 2,
   "metadata": {},
   "outputs": [
    {
     "name": "stdout",
     "output_type": "stream",
     "text": [
      "Numero Coppie nel Campione: 1538\n",
      "Numero Coppie 'Matching' nel Campione: 773\n",
      "Numero Coppie 'Non Matching' nel Campione: 765\n"
     ]
    }
   ],
   "source": [
    "campione = pd.read_csv(\"./campione_1500.csv\")\n",
    "print(\"Numero Coppie nel Campione:\", len(campione))\n",
    "print(\"Numero Coppie 'Matching' nel Campione:\", len(campione[campione['Label'] == 1]))\n",
    "print(\"Numero Coppie 'Non Matching' nel Campione:\", len(campione[campione['Label'] == 0]))"
   ]
  },
  {
   "cell_type": "markdown",
   "metadata": {},
   "source": [
    "# Valutazione del Blocking con Word2Vec\n",
    "Calcoleremo Precision e Recall utilizzando il seguente formalismo:\n",
    "- True Negative -> Coppie 'Non Matching' che non finiscono nello stesso Blocco\n",
    "- False Positive -> Coppie 'Non Matching' che finiscono nello stesso Blocco\n",
    "- False Negative -> Coppie 'Matching' che non finiscono nello stesso Blocco\n",
    "- True Positive -> Coppie 'Matching' che finiscono nello stesso Blocco"
   ]
  },
  {
   "cell_type": "code",
   "execution_count": 3,
   "metadata": {},
   "outputs": [],
   "source": [
    "schema_mediato_con_blocks = pd.read_csv(\"./../datasets/MediatedSchemaConBlocks_W2V.csv\")"
   ]
  },
  {
   "cell_type": "code",
   "execution_count": 4,
   "metadata": {},
   "outputs": [],
   "source": [
    "tn, fp, fn, tp = list(), list(), list(), list()\n",
    "\n",
    "for i in range(0, len(campione)):\n",
    "    row = campione.iloc[i]\n",
    "    first, second, true_label = row['Riga_SX'], row['Riga_DX'], row['Label']\n",
    "\n",
    "    first_block = schema_mediato_con_blocks.iloc[first]['block']\n",
    "    second_block = schema_mediato_con_blocks.iloc[second]['block']\n",
    "\n",
    "    computed_label = None\n",
    "    if first_block == second_block:\n",
    "        computed_label = 1\n",
    "    else:\n",
    "        computed_label = 0\n",
    "    \n",
    "    if true_label == 0 and computed_label == 0:\n",
    "        tn.append((first, second))\n",
    "    if true_label == 0 and computed_label == 1:\n",
    "        fp.append((first, second))\n",
    "    if true_label == 1 and computed_label == 0:\n",
    "        fn.append((first, second))\n",
    "    if true_label == 1 and computed_label == 1:\n",
    "        tp.append((first, second))"
   ]
  },
  {
   "cell_type": "code",
   "execution_count": 5,
   "metadata": {},
   "outputs": [
    {
     "name": "stdout",
     "output_type": "stream",
     "text": [
      "Recall: 0.4191461836998706\n",
      "Precision: 0.8828337874659401\n",
      "F-Measure: 0.5684210526315789\n"
     ]
    }
   ],
   "source": [
    "recall = len(tp) / (len(tp) + len(fn))\n",
    "precision = len(tp) / (len(tp) + len(fp))\n",
    "f_measure = (2 * precision * recall) / (precision + recall)\n",
    "\n",
    "print(\"Recall:\", recall)\n",
    "print(\"Precision:\", precision)\n",
    "print(\"F-Measure:\", f_measure)"
   ]
  },
  {
   "cell_type": "markdown",
   "metadata": {},
   "source": [
    "# Valutazione del Pairwise Matching sul Blocking con Word2Vec"
   ]
  },
  {
   "cell_type": "code",
   "execution_count": 6,
   "metadata": {},
   "outputs": [],
   "source": [
    "import re"
   ]
  },
  {
   "cell_type": "code",
   "execution_count": 7,
   "metadata": {},
   "outputs": [],
   "source": [
    "# Apre il file in modalità di lettura\n",
    "with open('./../3 - Pairwise Matching/results_clustersW2V.txt', 'r') as file:\n",
    "    # Legge le righe del file\n",
    "    lines = file.readlines()\n",
    "\n",
    "# Inizializza un dizionario vuoto\n",
    "result_dict = {}\n",
    "\n",
    "# Itera su ogni riga del file\n",
    "for line in lines:\n",
    "    match = re.match(r\"(\\d+):\\s*({.*})\\s*\", line)\n",
    "    if match:\n",
    "        key = int(match.group(1))\n",
    "        value = match.group(2)\n",
    "        value = eval(value)\n",
    "        result_dict[key] = value"
   ]
  },
  {
   "cell_type": "code",
   "execution_count": 8,
   "metadata": {},
   "outputs": [],
   "source": [
    "tn, fp, fn, tp = 0, 0, 0, 0\n",
    "for i in range(0, len(campione)):\n",
    "    row = campione.iloc[i]\n",
    "    first, second, label = row['Riga_SX'], row['Riga_DX'], row['Label']\n",
    "\n",
    "    if label == 0:\n",
    "        first_b, second_b, first_cl, second_cl = None, None, None, None\n",
    "        for key_i in list(result_dict.keys()):\n",
    "            inner_dict = result_dict[key_i]\n",
    "            for key_j in list(inner_dict.keys()):\n",
    "                if first in inner_dict[key_j]:\n",
    "                    first_b, first_cl = key_i, key_j\n",
    "                if second in inner_dict[key_j]:\n",
    "                    second_b, second_cl = key_i, key_j\n",
    "        \n",
    "        if first_b != second_b or (first_b == second_b and first_cl != second_cl):\n",
    "            tn += 1\n",
    "        if first_b == second_b and first_cl == second_cl:\n",
    "            fp += 1\n",
    "\n",
    "    elif label == 1:\n",
    "        first_b, second_b, first_cl, second_cl = None, None, None, None\n",
    "        for key_i in list(result_dict.keys()):\n",
    "            inner_dict = result_dict[key_i]\n",
    "            for key_j in list(inner_dict.keys()):\n",
    "                if first in inner_dict[key_j]:\n",
    "                    first_b, first_cl = key_i, key_j\n",
    "                if second in inner_dict[key_j]:\n",
    "                    second_b, second_cl = key_i, key_j\n",
    "        \n",
    "        if first_b != second_b or (first_b == second_b and first_cl != second_cl):\n",
    "            fn += 1\n",
    "        if first_b == second_b and first_cl == second_cl:\n",
    "            tp += 1"
   ]
  },
  {
   "cell_type": "code",
   "execution_count": 9,
   "metadata": {},
   "outputs": [
    {
     "name": "stdout",
     "output_type": "stream",
     "text": [
      "Recall: 0.1423027166882277\n",
      "Precision: 0.9821428571428571\n",
      "F-Measure: 0.24858757062146897\n"
     ]
    }
   ],
   "source": [
    "recall = tp / (tp + fn)\n",
    "precision = tp / (tp + fp)\n",
    "f_measure = 2*recall*precision / (recall+precision)\n",
    "\n",
    "print(\"Recall:\", recall)\n",
    "print(\"Precision:\", precision)\n",
    "print(\"F-Measure:\", f_measure)"
   ]
  },
  {
   "cell_type": "code",
   "execution_count": 12,
   "metadata": {},
   "outputs": [
    {
     "name": "stdout",
     "output_type": "stream",
     "text": [
      "Record rimanenti dopo il Record Linkage: 69122\n",
      "Percentuale 'sopravvissuta' del Dataset iniziale: 84.5984383031846\n"
     ]
    }
   ],
   "source": [
    "record_rimanenti = 0\n",
    "for key_i in list(result_dict.keys()):\n",
    "    inner_dict = result_dict[key_i]\n",
    "    record_rimanenti += len(inner_dict)\n",
    "\n",
    "print(\"Record rimanenti dopo il Record Linkage:\", record_rimanenti)\n",
    "print(\"Percentuale 'sopravvissuta' del Dataset iniziale:\", float(100*record_rimanenti/len(schema_mediato_con_blocks)))"
   ]
  }
 ],
 "metadata": {
  "kernelspec": {
   "display_name": "Python 3",
   "language": "python",
   "name": "python3"
  },
  "language_info": {
   "codemirror_mode": {
    "name": "ipython",
    "version": 3
   },
   "file_extension": ".py",
   "mimetype": "text/x-python",
   "name": "python",
   "nbconvert_exporter": "python",
   "pygments_lexer": "ipython3",
   "version": "3.8.18"
  }
 },
 "nbformat": 4,
 "nbformat_minor": 2
}

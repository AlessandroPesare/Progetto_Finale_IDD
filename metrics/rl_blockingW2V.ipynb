{
 "cells": [
  {
   "cell_type": "code",
   "execution_count": 1,
   "metadata": {},
   "outputs": [],
   "source": [
    "import pandas as pd"
   ]
  },
  {
   "cell_type": "code",
   "execution_count": 2,
   "metadata": {},
   "outputs": [
    {
     "name": "stdout",
     "output_type": "stream",
     "text": [
      "Numero Coppie nel Campione: 400\n",
      "Numero Coppie 'Matching' nel Campione: 173\n",
      "Numero Coppie 'Non Matching' nel Campione: 227\n"
     ]
    }
   ],
   "source": [
    "campione = pd.read_excel(\"./campione_400.xlsx\")\n",
    "print(\"Numero Coppie nel Campione:\", len(campione))\n",
    "print(\"Numero Coppie 'Matching' nel Campione:\", len(campione[campione['Label'] == 1]))\n",
    "print(\"Numero Coppie 'Non Matching' nel Campione:\", len(campione[campione['Label'] == 0]))"
   ]
  },
  {
   "cell_type": "markdown",
   "metadata": {},
   "source": [
    "# Valutazione del Blocking con Word2Vec\n",
    "Calcoleremo Precision e Recall utilizzando il seguente formalismo:\n",
    "- True Negative -> Coppie 'Non Matching' che non finiscono nello stesso Blocco\n",
    "- False Positive -> Coppie 'Non Matching' che finiscono nello stesso Blocco\n",
    "- False Negative -> Coppie 'Matching' che non finiscono nello stesso Blocco\n",
    "- True Positive -> Coppie 'Matching' che finiscono nello stesso Blocco"
   ]
  },
  {
   "cell_type": "code",
   "execution_count": 3,
   "metadata": {},
   "outputs": [],
   "source": [
    "schema_mediato_con_blocks = pd.read_csv(\"./../datasets/MediatedSchemaConBlocks_W2V.csv\")"
   ]
  },
  {
   "cell_type": "code",
   "execution_count": 5,
   "metadata": {},
   "outputs": [],
   "source": [
    "tn, fp, fn, tp = list(), list(), list(), list()\n",
    "\n",
    "for i in range(0, len(campione)):\n",
    "    row = campione.iloc[i]\n",
    "    first, second, true_label = row['Riga_SX'], row['Riga_DX'], row['Label']\n",
    "\n",
    "    first_block = schema_mediato_con_blocks.iloc[first]['block']\n",
    "    second_block = schema_mediato_con_blocks.iloc[second]['block']\n",
    "\n",
    "    computed_label = None\n",
    "    if first_block == second_block:\n",
    "        computed_label = 1\n",
    "    else:\n",
    "        computed_label = 0\n",
    "    \n",
    "    if true_label == 0 and computed_label == 0:\n",
    "        tn.append((first, second))\n",
    "    if true_label == 0 and computed_label == 1:\n",
    "        fp.append((first, second))\n",
    "    if true_label == 1 and computed_label == 0:\n",
    "        fn.append((first, second))\n",
    "    if true_label == 1 and computed_label == 1:\n",
    "        tp.append((first, second))"
   ]
  },
  {
   "cell_type": "code",
   "execution_count": 6,
   "metadata": {},
   "outputs": [
    {
     "name": "stdout",
     "output_type": "stream",
     "text": [
      "Recall: 0.4277456647398844\n",
      "Precision: 0.6548672566371682\n",
      "F-Measure: 0.5174825174825175\n"
     ]
    }
   ],
   "source": [
    "recall = len(tp) / (len(tp) + len(fn))\n",
    "precision = len(tp) / (len(tp) + len(fp))\n",
    "f_measure = (2 * precision * recall) / (precision + recall)\n",
    "\n",
    "print(\"Recall:\", recall)\n",
    "print(\"Precision:\", precision)\n",
    "print(\"F-Measure:\", f_measure)"
   ]
  }
 ],
 "metadata": {
  "kernelspec": {
   "display_name": "Python 3",
   "language": "python",
   "name": "python3"
  },
  "language_info": {
   "codemirror_mode": {
    "name": "ipython",
    "version": 3
   },
   "file_extension": ".py",
   "mimetype": "text/x-python",
   "name": "python",
   "nbconvert_exporter": "python",
   "pygments_lexer": "ipython3",
   "version": "3.8.18"
  }
 },
 "nbformat": 4,
 "nbformat_minor": 2
}

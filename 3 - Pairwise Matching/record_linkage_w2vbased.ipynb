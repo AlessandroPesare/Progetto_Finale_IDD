{
 "cells": [
  {
   "cell_type": "markdown",
   "metadata": {},
   "source": [
    "# Pairwise Matching su blockingW2V"
   ]
  },
  {
   "cell_type": "code",
   "execution_count": 1,
   "metadata": {},
   "outputs": [
    {
     "name": "stderr",
     "output_type": "stream",
     "text": [
      "C:\\Users\\Riccardo De Cesaris\\AppData\\Local\\Temp\\ipykernel_20484\\3249245688.py:2: DeprecationWarning: \n",
      "Pyarrow will become a required dependency of pandas in the next major release of pandas (pandas 3.0),\n",
      "(to allow more performant data types, such as the Arrow string type, and better interoperability with other libraries)\n",
      "but was not found to be installed on your system.\n",
      "If this would cause problems for you,\n",
      "please provide us feedback at https://github.com/pandas-dev/pandas/issues/54466\n",
      "        \n",
      "  import pandas as pd\n"
     ]
    }
   ],
   "source": [
    "import numpy as np\n",
    "import pandas as pd\n",
    "from sklearn.cluster import AgglomerativeClustering\n",
    "from scipy.spatial.distance import euclidean\n",
    "from itertools import combinations"
   ]
  },
  {
   "cell_type": "markdown",
   "metadata": {},
   "source": [
    "## Calcolo della Distanza \"Intra-Cluster\" Media"
   ]
  },
  {
   "cell_type": "code",
   "execution_count": 2,
   "metadata": {},
   "outputs": [],
   "source": [
    "def compute_mean_distance(elements):\n",
    "    pairs = list(combinations(elements,2))\n",
    "    # Calcola la distanza euclidea tra ciascuna coppia di vettori\n",
    "    distances = [euclidean(pair[0], pair[1]) for pair in pairs]\n",
    "\n",
    "    # Calcola la media delle distanze\n",
    "    mean_distance = np.mean(distances)\n",
    "\n",
    "    #print(\"Media distanza tra i vettori di embedding:\", mean_distance)\n",
    "\n",
    "    return mean_distance"
   ]
  },
  {
   "cell_type": "markdown",
   "metadata": {},
   "source": [
    "## Caricamento dello schema mediato con cluster (Strategia Embedding Word2Vec)"
   ]
  },
  {
   "cell_type": "code",
   "execution_count": 3,
   "metadata": {},
   "outputs": [],
   "source": [
    "schema_mediato_con_blocks = pd.read_csv(\"./../datasets/MediatedSchemaConBlocks_W2V.csv\")"
   ]
  },
  {
   "cell_type": "code",
   "execution_count": 4,
   "metadata": {},
   "outputs": [
    {
     "name": "stdout",
     "output_type": "stream",
     "text": [
      "2167\n"
     ]
    }
   ],
   "source": [
    "num_blocks = schema_mediato_con_blocks['block'].nunique()\n",
    "print(num_blocks)"
   ]
  },
  {
   "cell_type": "code",
   "execution_count": 5,
   "metadata": {},
   "outputs": [],
   "source": [
    "bert_vectors = pd.read_csv(\"./../datasets/MediatedSchemaVectors.csv\")"
   ]
  },
  {
   "cell_type": "markdown",
   "metadata": {},
   "source": [
    "## AgglomerativeClustering su Vettori estratti dai Record con BERT"
   ]
  },
  {
   "cell_type": "code",
   "execution_count": 6,
   "metadata": {},
   "outputs": [],
   "source": [
    "stats = {}"
   ]
  },
  {
   "cell_type": "code",
   "execution_count": 7,
   "metadata": {},
   "outputs": [],
   "source": [
    "for i in range(0,num_blocks):\n",
    "    records_cluster = schema_mediato_con_blocks[schema_mediato_con_blocks['block']==i]\n",
    "    if(len(records_cluster)>1):\n",
    "        vectors_cluster = bert_vectors.loc[records_cluster.index].copy() #lista degli indici di riga per il cluster corrente\n",
    "        distance_threshold = compute_mean_distance(vectors_cluster.values.tolist())\n",
    "        model = AgglomerativeClustering(n_clusters=None,distance_threshold=0.33*distance_threshold).fit(vectors_cluster)\n",
    "        stats[i] = {}\n",
    "        vectors_cluster['cluster'] = model.labels_\n",
    "        for j in range(0,max(model.labels_)):\n",
    "            stats[i][j] = vectors_cluster[vectors_cluster['cluster']==j].index.tolist()\n",
    "    else:\n",
    "        stats[i] = {}\n",
    "        stats[i][0] = records_cluster.index.tolist()"
   ]
  },
  {
   "cell_type": "code",
   "execution_count": 9,
   "metadata": {},
   "outputs": [
    {
     "data": {
      "text/plain": [
       "2039"
      ]
     },
     "execution_count": 9,
     "metadata": {},
     "output_type": "execute_result"
    }
   ],
   "source": [
    "elementi_con_dimensione_maggiore_di_1 = sum(len(d) > 1 for d in stats.values())\n",
    "elementi_con_dimensione_maggiore_di_1"
   ]
  },
  {
   "cell_type": "markdown",
   "metadata": {},
   "source": [
    "## Salvataggio su File"
   ]
  },
  {
   "cell_type": "code",
   "execution_count": 10,
   "metadata": {},
   "outputs": [],
   "source": [
    "with open(\"./results_clustersW2V.txt\", \"w\") as file:\n",
    "    # Iterare sul dizionario e scrivere ogni coppia chiave-valore su una nuova riga\n",
    "    for chiave, valore in stats.items():\n",
    "        file.write(f\"{chiave}: {valore}\\n\")"
   ]
  }
 ],
 "metadata": {
  "kernelspec": {
   "display_name": "FinalProjectIDD3_8",
   "language": "python",
   "name": "python3"
  },
  "language_info": {
   "codemirror_mode": {
    "name": "ipython",
    "version": 3
   },
   "file_extension": ".py",
   "mimetype": "text/x-python",
   "name": "python",
   "nbconvert_exporter": "python",
   "pygments_lexer": "ipython3",
   "version": "3.10.13"
  }
 },
 "nbformat": 4,
 "nbformat_minor": 2
}
